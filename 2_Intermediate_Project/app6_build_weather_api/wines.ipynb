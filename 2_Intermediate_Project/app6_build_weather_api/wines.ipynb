{
 "cells": [
  {
   "cell_type": "markdown",
   "id": "fd780b40-26ab-4265-b655-98713d32e99d",
   "metadata": {},
   "source": [
    "## Import Library"
   ]
  },
  {
   "cell_type": "code",
   "execution_count": 39,
   "id": "f81c30d4-819f-4d6a-89c3-1c04eb219cda",
   "metadata": {},
   "outputs": [],
   "source": [
    "import pandas as pd\n",
    "import matplotlib.pyplot as plt"
   ]
  },
  {
   "cell_type": "markdown",
   "id": "fb7b9d7c-d02c-44fc-a2c6-e753e0999962",
   "metadata": {},
   "source": [
    "## Load Dataframe"
   ]
  },
  {
   "cell_type": "code",
   "execution_count": 10,
   "id": "95af0387-0551-44dd-a065-ab936db595df",
   "metadata": {},
   "outputs": [
    {
     "name": "stdout",
     "output_type": "stream",
     "text": [
      "         country                                        description  \\\n",
      "0          Italy  Aromas include tropical fruit, broom, brimston...   \n",
      "1       Portugal  This is ripe and fruity, a wine that is smooth...   \n",
      "2             US  Tart and snappy, the flavors of lime flesh and...   \n",
      "3             US  Pineapple rind, lemon pith and orange blossom ...   \n",
      "4             US  Much like the regular bottling from 2012, this...   \n",
      "...          ...                                                ...   \n",
      "129966   Germany  Notes of honeysuckle and cantaloupe sweeten th...   \n",
      "129967        US  Citation is given as much as a decade of bottl...   \n",
      "129968    France  Well-drained gravel soil gives this wine its c...   \n",
      "129969    France  A dry style of Pinot Gris, this is crisp with ...   \n",
      "129970    France  Big, rich and off-dry, this is powered by inte...   \n",
      "\n",
      "                                          name  points  price  \\\n",
      "0                                 Vulkà Bianco      87    NaN   \n",
      "1                                     Avidagos      87   15.0   \n",
      "2                                          NaN      87   14.0   \n",
      "3                         Reserve Late Harvest      87   13.0   \n",
      "4           Vintner's Reserve Wild Child Block      87   65.0   \n",
      "...                                        ...     ...    ...   \n",
      "129966  Brauneberger Juffer-Sonnenuhr Spätlese      90   28.0   \n",
      "129967                                     NaN      90   75.0   \n",
      "129968                                   Kritt      90   30.0   \n",
      "129969                                     NaN      90   32.0   \n",
      "129970           Lieu-dit Harth Cuvée Caroline      90   21.0   \n",
      "\n",
      "                 province             region_1           region_2  \\\n",
      "0       Sicily & Sardinia                 Etna                NaN   \n",
      "1                   Douro                  NaN                NaN   \n",
      "2                  Oregon    Willamette Valley  Willamette Valley   \n",
      "3                Michigan  Lake Michigan Shore                NaN   \n",
      "4                  Oregon    Willamette Valley  Willamette Valley   \n",
      "...                   ...                  ...                ...   \n",
      "129966              Mosel                  NaN                NaN   \n",
      "129967             Oregon               Oregon       Oregon Other   \n",
      "129968             Alsace               Alsace                NaN   \n",
      "129969             Alsace               Alsace                NaN   \n",
      "129970             Alsace               Alsace                NaN   \n",
      "\n",
      "               taster_name taster_twitter_handle  \\\n",
      "0            Kerin O’Keefe          @kerinokeefe   \n",
      "1               Roger Voss            @vossroger   \n",
      "2             Paul Gregutt           @paulgwine    \n",
      "3       Alexander Peartree                   NaN   \n",
      "4             Paul Gregutt           @paulgwine    \n",
      "...                    ...                   ...   \n",
      "129966  Anna Lee C. Iijima                   NaN   \n",
      "129967        Paul Gregutt           @paulgwine    \n",
      "129968          Roger Voss            @vossroger   \n",
      "129969          Roger Voss            @vossroger   \n",
      "129970          Roger Voss            @vossroger   \n",
      "\n",
      "                                                    title         variety  \\\n",
      "0                       Nicosia 2013 Vulkà Bianco  (Etna)     White Blend   \n",
      "1           Quinta dos Avidagos 2011 Avidagos Red (Douro)  Portuguese Red   \n",
      "2           Rainstorm 2013 Pinot Gris (Willamette Valley)      Pinot Gris   \n",
      "3       St. Julian 2013 Reserve Late Harvest Riesling ...        Riesling   \n",
      "4       Sweet Cheeks 2012 Vintner's Reserve Wild Child...      Pinot Noir   \n",
      "...                                                   ...             ...   \n",
      "129966  Dr. H. Thanisch (Erben Müller-Burggraef) 2013 ...        Riesling   \n",
      "129967                  Citation 2004 Pinot Noir (Oregon)      Pinot Noir   \n",
      "129968  Domaine Gresser 2013 Kritt Gewurztraminer (Als...  Gewürztraminer   \n",
      "129969      Domaine Marcel Deiss 2012 Pinot Gris (Alsace)      Pinot Gris   \n",
      "129970  Domaine Schoffit 2012 Lieu-dit Harth Cuvée Car...  Gewürztraminer   \n",
      "\n",
      "                                          winery  \n",
      "0                                        Nicosia  \n",
      "1                            Quinta dos Avidagos  \n",
      "2                                      Rainstorm  \n",
      "3                                     St. Julian  \n",
      "4                                   Sweet Cheeks  \n",
      "...                                          ...  \n",
      "129966  Dr. H. Thanisch (Erben Müller-Burggraef)  \n",
      "129967                                  Citation  \n",
      "129968                           Domaine Gresser  \n",
      "129969                      Domaine Marcel Deiss  \n",
      "129970                          Domaine Schoffit  \n",
      "\n",
      "[129971 rows x 13 columns]\n"
     ]
    }
   ],
   "source": [
    "df = pd.read_csv('wines.csv',index_col=0)\n",
    "print(df)"
   ]
  },
  {
   "cell_type": "markdown",
   "id": "0c85b3a2-33a5-4dd7-b51e-91522e3a3f40",
   "metadata": {},
   "source": [
    "## How many wines have been given a rating of 100 points?"
   ]
  },
  {
   "cell_type": "code",
   "execution_count": 54,
   "id": "b59ad98f-4c5d-4ca1-a92d-6f855d508246",
   "metadata": {},
   "outputs": [
    {
     "name": "stdout",
     "output_type": "stream",
     "text": [
      "19\n"
     ]
    }
   ],
   "source": [
    "get_100_points_wine = df[df['points']== 100]\n",
    "print(len(get_100_points_wine))"
   ]
  },
  {
   "cell_type": "markdown",
   "id": "5251b977-2fd2-442b-ba19-3f1326429a23",
   "metadata": {},
   "source": [
    "## What is the name of the most expensive wine?"
   ]
  },
  {
   "cell_type": "code",
   "execution_count": 55,
   "id": "d93584b1-4486-4644-b10a-201e670fac44",
   "metadata": {},
   "outputs": [
    {
     "name": "stdout",
     "output_type": "stream",
     "text": [
      "Glamorosa Sensible\n"
     ]
    }
   ],
   "source": [
    "get_the_expensive = df.loc[df['price']==df['price'].max()]['name'].squeeze()\n",
    "print(get_the_expensive)"
   ]
  },
  {
   "cell_type": "markdown",
   "id": "e42dae63-5ac8-4de4-8464-e5420430c221",
   "metadata": {},
   "source": [
    "## Calculate a new column where you show the rating in scale from 0 to 5. floats are allowed"
   ]
  },
  {
   "cell_type": "code",
   "execution_count": 29,
   "id": "5356b96f-2bfc-4612-8ad5-e63883687af3",
   "metadata": {},
   "outputs": [
    {
     "name": "stdout",
     "output_type": "stream",
     "text": [
      "0         4.35\n",
      "1         4.35\n",
      "2         4.35\n",
      "3         4.35\n",
      "4         4.35\n",
      "          ... \n",
      "129966    4.50\n",
      "129967    4.50\n",
      "129968    4.50\n",
      "129969    4.50\n",
      "129970    4.50\n",
      "Name: rating, Length: 129971, dtype: float64\n"
     ]
    }
   ],
   "source": [
    "def get_rating(x):\n",
    "    return (float(x['points']) / 100) * 5\n",
    "\n",
    "df['rating'] = df.apply(get_rating, axis = 1)\n",
    "\n",
    "print(df['rating'])"
   ]
  },
  {
   "cell_type": "markdown",
   "id": "3cd941e5-651f-48d2-add3-0803c0ab9af8",
   "metadata": {},
   "source": [
    "## Create a price histogram for wines that cost less than 100"
   ]
  },
  {
   "cell_type": "code",
   "execution_count": 57,
   "id": "2c37dc71-2eef-4554-964b-6a3f8b624b45",
   "metadata": {},
   "outputs": [
    {
     "data": {
      "image/png": "[encoded data removed]",
      "text/plain": [
       "<Figure size 640x480 with 1 Axes>"
      ]
     },
     "metadata": {},
     "output_type": "display_data"
    }
   ],
   "source": [
    "price_lower_than_100 = df.loc[df['price'] < 100]['price']\n",
    "\n",
    "plt.hist(price_lower_than_100)\n",
    "plt.show()\n"
   ]
  },
  {
   "cell_type": "markdown",
   "id": "b07edbb0-22a1-4ca6-8b46-215a5257967c",
   "metadata": {},
   "source": [
    "## Plot price horizontally aginst point vertically. Do you think rating increase by price ? "
   ]
  },
  {
   "cell_type": "code",
   "execution_count": 59,
   "id": "3f55a932-b361-4271-a370-1024769d111f",
   "metadata": {},
   "outputs": [
    {
     "data": {
      "text/plain": [
       "<Axes: xlabel='price', ylabel='points'>"
      ]
     },
     "execution_count": 59,
     "metadata": {},
     "output_type": "execute_result"
    },
    {
     "data": {
      "image/png": "[encoded data removed]",
      "text/plain": [
       "<Figure size 1500x300 with 1 Axes>"
      ]
     },
     "metadata": {},
     "output_type": "display_data"
    }
   ],
   "source": [
    "price = df[['price']]\n",
    "point = df[['points']]\n",
    "\n",
    "\n",
    "\n",
    "df.plot('price', 'points', figsize=(15,3), kind='scatter')"
   ]
  },
  {
   "cell_type": "code",
   "execution_count": null,
   "id": "cf13da80-deb4-4c97-92d9-41932cf8601a",
   "metadata": {},
   "outputs": [],
   "source": []
  },
  {
   "cell_type": "code",
   "execution_count": null,
   "id": "8c5f3aeb-eec8-43a8-b966-52c0ff6db24c",
   "metadata": {},
   "outputs": [],
   "source": []
  }
 ],
 "metadata": {
  "kernelspec": {
   "display_name": "Python 3 (ipykernel)",
   "language": "python",
   "name": "python3"
  },
  "language_info": {
   "codemirror_mode": {
    "name": "ipython",
    "version": 3
   },
   "file_extension": ".py",
   "mimetype": "text/x-python",
   "name": "python",
   "nbconvert_exporter": "python",
   "pygments_lexer": "ipython3",
   "version": "3.12.0"
  }
 },
 "nbformat": 4,
 "nbformat_minor": 5
}
