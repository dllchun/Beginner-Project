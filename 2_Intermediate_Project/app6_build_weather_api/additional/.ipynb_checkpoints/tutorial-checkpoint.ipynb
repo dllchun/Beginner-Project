{
 "cells": [
  {
   "cell_type": "code",
   "execution_count": 6,
   "id": "e563d6ee-849d-4100-8618-f13701d84ed0",
   "metadata": {},
   "outputs": [],
   "source": [
    "import pandas as pd"
   ]
  },
  {
   "cell_type": "code",
   "execution_count": 11,
   "id": "6922e16f-7b18-4dd8-b139-a36b54e07228",
   "metadata": {},
   "outputs": [],
   "source": [
    "df = pd.read_csv(\"data_small/TG_STAID000001.txt\", skiprows = 20, parse_dates=[\"    DATE\"])"
   ]
  },
  {
   "cell_type": "code",
   "execution_count": null,
   "id": "5322790e-e517-4de3-89eb-d1ecb3929421",
   "metadata": {},
   "outputs": [],
   "source": [
    "print(df)"
   ]
  }
 ],
 "metadata": {
  "kernelspec": {
   "display_name": "Python 3 (ipykernel)",
   "language": "python",
   "name": "python3"
  },
  "language_info": {
   "codemirror_mode": {
    "name": "ipython",
    "version": 3
   },
   "file_extension": ".py",
   "mimetype": "text/x-python",
   "name": "python",
   "nbconvert_exporter": "python",
   "pygments_lexer": "ipython3",
   "version": "3.12.0"
  }
 },
 "nbformat": 4,
 "nbformat_minor": 5
}
