{
 "cells": [
  {
   "cell_type": "markdown",
   "id": "010a44b0-981e-4287-a86e-0d16fb2d58a5",
   "metadata": {},
   "source": [
    "# Load the book"
   ]
  },
  {
   "cell_type": "code",
   "execution_count": 4,
   "id": "a2ed702a-9a6d-4549-8a6e-cc346280dee1",
   "metadata": {},
   "outputs": [],
   "source": [
    "with open('miracle_in_the_andes.txt', 'r') as file:\n",
    "    book = file .read()"
   ]
  },
  {
   "cell_type": "code",
   "execution_count": 5,
   "id": "7ace6114-008c-45bb-943d-dfd0491f818c",
   "metadata": {},
   "outputs": [
    {
     "data": {
      "text/plain": [
       "str"
      ]
     },
     "execution_count": 5,
     "metadata": {},
     "output_type": "execute_result"
    }
   ],
   "source": [
    "type(book)"
   ]
  },
  {
   "cell_type": "markdown",
   "id": "e636dc86-c1ec-4b06-9694-e529fa28fec9",
   "metadata": {},
   "source": [
    "# How many chapters ? "
   ]
  },
  {
   "cell_type": "markdown",
   "id": "ce8ae57d-1c03-48f0-9f6d-ccc0acd5d0f6",
   "metadata": {},
   "source": [
    "### With String Method"
   ]
  },
  {
   "cell_type": "code",
   "execution_count": null,
   "id": "8eed4a75-8605-4e24-b4eb-409fe411b6c4",
   "metadata": {},
   "outputs": [],
   "source": [
    "book.count('Chapter')"
   ]
  },
  {
   "cell_type": "markdown",
   "id": "f7ffab93-d3c4-4f0d-aee4-769712ecfdd3",
   "metadata": {},
   "source": [
    "### With regex"
   ]
  },
  {
   "cell_type": "code",
   "execution_count": 7,
   "id": "819d6f80-6e1b-465a-8538-1b387761001c",
   "metadata": {},
   "outputs": [],
   "source": [
    "import re"
   ]
  },
  {
   "cell_type": "code",
   "execution_count": null,
   "id": "e5cd5686-60d1-4b57-909a-3d6fe9e03db0",
   "metadata": {},
   "outputs": [],
   "source": [
    "pattern = re.compile(\"Chapter [0-9]+\") #+ means multiple digits are allowed\n",
    "findings = re.findall(pattern, book) \n",
    "len(findings)"
   ]
  },
  {
   "cell_type": "markdown",
   "id": "6d958ef8-9477-49f3-9781-0267ace2d628",
   "metadata": {},
   "source": [
    "# Which are the sentences where 'love' was used?"
   ]
  },
  {
   "cell_type": "code",
   "execution_count": null,
   "id": "92e3bf70-812a-411a-9e90-1d5564896e99",
   "metadata": {},
   "outputs": [],
   "source": [
    "# pattern = re.compile('[a-zA-Z ,]* love [a-zA-Z]*')\n",
    "pattern = re.compile('[A-Z]{1}[^.]* love[^a-zA-z][^.]*.')\n",
    "findings = re.findall(pattern, book)"
   ]
  },
  {
   "cell_type": "code",
   "execution_count": null,
   "id": "fb47f866-b2ef-4f89-ba31-5d0d7091aab8",
   "metadata": {},
   "outputs": [],
   "source": [
    "len(findings)\n",
    "findings"
   ]
  },
  {
   "cell_type": "markdown",
   "id": "9c10479e-54e5-42d8-b0d2-37e6019bd795",
   "metadata": {},
   "source": [
    "# What are the most used words?"
   ]
  },
  {
   "cell_type": "code",
   "execution_count": 8,
   "id": "1707290d-ef9a-4375-aa8d-ad97f82849cf",
   "metadata": {},
   "outputs": [
    {
     "data": {
      "text/plain": [
       "['chapter', 'before', 'it', 'was', 'friday']"
      ]
     },
     "execution_count": 8,
     "metadata": {},
     "output_type": "execute_result"
    }
   ],
   "source": [
    "pattern = re.compile('[a-zA-z]+')\n",
    "findings = re.findall(pattern, book.lower())\n",
    "findings[:5]"
   ]
  },
  {
   "cell_type": "code",
   "execution_count": 15,
   "id": "18382125-0b2b-4fa5-9ed9-98fdeecd42a0",
   "metadata": {},
   "outputs": [],
   "source": [
    "d = {}\n",
    "for word in findings:\n",
    "    if word in d.keys():\n",
    "        d[word] += 1\n",
    "    else:\n",
    "        d[word] = 1"
   ]
  },
  {
   "cell_type": "code",
   "execution_count": 20,
   "id": "5cbe3afa-685b-40cf-80e8-2c84ce648c3b",
   "metadata": {},
   "outputs": [],
   "source": [
    "d_list = [(value, key) for (key, value) in d.items()]\n",
    "sorted_list = sorted(d_list, reverse=True)"
   ]
  },
  {
   "cell_type": "code",
   "execution_count": 17,
   "id": "d2155422-94f3-40a8-be89-1891a3aa2d44",
   "metadata": {},
   "outputs": [
    {
     "data": {
      "text/plain": [
       "[(5346, 'the')]"
      ]
     },
     "execution_count": 17,
     "metadata": {},
     "output_type": "execute_result"
    }
   ],
   "source": [
    "the_most_used_words = sorted_list[:1]\n",
    "the_most_used_words"
   ]
  },
  {
   "cell_type": "code",
   "execution_count": null,
   "id": "93c797aa-b282-4109-aaf5-3717510692e1",
   "metadata": {},
   "outputs": [],
   "source": []
  }
 ],
 "metadata": {
  "kernelspec": {
   "display_name": "Python 3 (ipykernel)",
   "language": "python",
   "name": "python3"
  },
  "language_info": {
   "codemirror_mode": {
    "name": "ipython",
    "version": 3
   },
   "file_extension": ".py",
   "mimetype": "text/x-python",
   "name": "python",
   "nbconvert_exporter": "python",
   "pygments_lexer": "ipython3",
   "version": "3.12.0"
  }
 },
 "nbformat": 4,
 "nbformat_minor": 5
}
