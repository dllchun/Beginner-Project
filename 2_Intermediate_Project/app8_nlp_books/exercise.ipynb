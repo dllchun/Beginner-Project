{
 "cells": [
  {
   "cell_type": "code",
   "execution_count": 1,
   "id": "e1bfdd2e-771b-4430-91f8-31dd5641f232",
   "metadata": {},
   "outputs": [],
   "source": [
    "with open('miracle_in_the_andes.txt', 'r') as file:\n",
    "    book = file .read()"
   ]
  },
  {
   "cell_type": "markdown",
   "id": "57faf6f6-aa40-4b12-a95f-f7e66232d2cf",
   "metadata": {},
   "source": [
    "# Extract the pararaphs where 'love' was used"
   ]
  },
  {
   "cell_type": "code",
   "execution_count": 3,
   "id": "c02c0993-121a-4476-94d6-814f67a6c5a4",
   "metadata": {},
   "outputs": [],
   "source": [
    "import re"
   ]
  },
  {
   "cell_type": "code",
   "execution_count": 127,
   "id": "31cd00c5-3e85-49c8-a602-67f01c0836b6",
   "metadata": {},
   "outputs": [],
   "source": [
    "pattern = re.compile(\"[^\\n]* love [^\\n]*\")\n",
    "findings = re.findall(pattern, book)"
   ]
  },
  {
   "cell_type": "markdown",
   "id": "5e8bbb91-55f9-4e17-b63f-23aac849d386",
   "metadata": {},
   "source": [
    "# Extract the chapter title "
   ]
  },
  {
   "cell_type": "code",
   "execution_count": 194,
   "id": "4d1aeec6-9643-4b5e-90ea-6ec8ac663616",
   "metadata": {},
   "outputs": [],
   "source": [
    "pattern = re.compile(\"([a-zA-Z ]+)\\n\\n\") #only return result between ( )\n",
    "findings = re.findall(pattern, book)\n",
    "# findings = [item.strip('\\n\\n') for item in findings ]"
   ]
  },
  {
   "cell_type": "code",
   "execution_count": 195,
   "id": "ca26a240-2e2a-43b6-b897-5b2be94064d7",
   "metadata": {},
   "outputs": [
    {
     "data": {
      "text/plain": [
       "['Before',\n",
       " 'Everything Precious',\n",
       " 'A Promise',\n",
       " 'Breathe Once More',\n",
       " 'Abandoned',\n",
       " 'Tomb',\n",
       " 'East',\n",
       " 'The Opposite of Death',\n",
       " 'I See a Man',\n",
       " 'After']"
      ]
     },
     "execution_count": 195,
     "metadata": {},
     "output_type": "execute_result"
    }
   ],
   "source": [
    "findings"
   ]
  },
  {
   "cell_type": "markdown",
   "id": "5f09f5b3-3a46-4ece-85c7-5f736fd2aff0",
   "metadata": {},
   "source": [
    "# Function that finds the occurrence of any word"
   ]
  },
  {
   "cell_type": "code",
   "execution_count": 183,
   "id": "53a78552-3dea-4006-8775-1113412750f1",
   "metadata": {},
   "outputs": [],
   "source": [
    "pattern = re.compile('[a-zA-Z]+')\n",
    "findings = re.findall(pattern, book.lower())\n"
   ]
  },
  {
   "cell_type": "code",
   "execution_count": 178,
   "id": "4395837b-50fd-4530-8fa8-7e350c1c8cfc",
   "metadata": {},
   "outputs": [],
   "source": [
    "def get_data(request_word):\n",
    "\n",
    "    #split data\n",
    "    pattern = re.compile('[a-zA-Z]+')\n",
    "    findings = re.findall(pattern, book.lower())\n",
    "\n",
    "    data_dict = {}\n",
    "    \n",
    "    for word in findings:\n",
    "        if word in data_dict:\n",
    "            data_dict[word] += 1\n",
    "        else:\n",
    "            data_dict[word] = 1\n",
    "\n",
    "    try:\n",
    "        return data_dict[request_word]\n",
    "\n",
    "    except:\n",
    "        print('Not Appear')"
   ]
  },
  {
   "cell_type": "markdown",
   "id": "e2a9ac84-6d0e-46fe-ab16-e5d130c49b2e",
   "metadata": {},
   "source": [
    "# Call the function "
   ]
  },
  {
   "cell_type": "code",
   "execution_count": 182,
   "id": "a5337de3-e095-40fc-8aaf-8836d68b1757",
   "metadata": {},
   "outputs": [
    {
     "data": {
      "text/plain": [
       "95"
      ]
     },
     "execution_count": 182,
     "metadata": {},
     "output_type": "execute_result"
    }
   ],
   "source": [
    "get_data('roy')"
   ]
  }
 ],
 "metadata": {
  "kernelspec": {
   "display_name": "Python 3 (ipykernel)",
   "language": "python",
   "name": "python3"
  },
  "language_info": {
   "codemirror_mode": {
    "name": "ipython",
    "version": 3
   },
   "file_extension": ".py",
   "mimetype": "text/x-python",
   "name": "python",
   "nbconvert_exporter": "python",
   "pygments_lexer": "ipython3",
   "version": "3.12.0"
  }
 },
 "nbformat": 4,
 "nbformat_minor": 5
}
