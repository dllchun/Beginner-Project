{
 "cells": [
  {
   "cell_type": "code",
   "execution_count": 7,
   "id": "0cdbdd0a-f92e-4e14-933d-b392528f320f",
   "metadata": {},
   "outputs": [],
   "source": [
    "import numpy as np"
   ]
  },
  {
   "cell_type": "code",
   "execution_count": 8,
   "id": "bc97bc7f-de85-4a6a-9645-748b4c968398",
   "metadata": {},
   "outputs": [],
   "source": [
    "arr1 = np.array([1,7,2,19,22])"
   ]
  },
  {
   "cell_type": "raw",
   "id": "9d412150-6db1-4065-a9b6-b27b4a074a41",
   "metadata": {},
   "source": [
    "arr1"
   ]
  },
  {
   "cell_type": "code",
   "execution_count": null,
   "id": "b508d757-9908-4ac6-ae4e-1bdeb2c97a5b",
   "metadata": {},
   "outputs": [],
   "source": []
  },
  {
   "cell_type": "code",
   "execution_count": null,
   "id": "c0722f1a-0c24-44d7-967a-bae1a49fa2e0",
   "metadata": {},
   "outputs": [],
   "source": []
  }
 ],
 "metadata": {
  "kernelspec": {
   "display_name": "Python 3 (ipykernel)",
   "language": "python",
   "name": "python3"
  },
  "language_info": {
   "codemirror_mode": {
    "name": "ipython",
    "version": 3
   },
   "file_extension": ".py",
   "mimetype": "text/x-python",
   "name": "python",
   "nbconvert_exporter": "python",
   "pygments_lexer": "ipython3",
   "version": "3.12.0"
  }
 },
 "nbformat": 4,
 "nbformat_minor": 5
}
