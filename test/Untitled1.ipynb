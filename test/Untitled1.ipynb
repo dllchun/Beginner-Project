{
 "cells": [
  {
   "cell_type": "code",
   "execution_count": 1,
   "id": "0995bd29-9cf6-4e0d-bfd7-827b88190bd3",
   "metadata": {},
   "outputs": [],
   "source": [
    "my_dict = {'a': 1, 'b': 2, 'c': 3}"
   ]
  },
  {
   "cell_type": "code",
   "execution_count": 2,
   "id": "fe73f539-71c4-446b-8ee2-8846c76d5f39",
   "metadata": {},
   "outputs": [],
   "source": [
    "new = my_dict.copy()"
   ]
  },
  {
   "cell_type": "code",
   "execution_count": 4,
   "id": "09fd8b7e-68c7-4077-b0ee-5be4c3d84b0b",
   "metadata": {},
   "outputs": [],
   "source": [
    "new = { v: k for (k, v) in new.items()}    "
   ]
  },
  {
   "cell_type": "code",
   "execution_count": 5,
   "id": "de215de5-8da3-4e3a-87b1-3df9992835cd",
   "metadata": {},
   "outputs": [
    {
     "data": {
      "text/plain": [
       "{1: 'a', 2: 'b', 3: 'c'}"
      ]
     },
     "execution_count": 5,
     "metadata": {},
     "output_type": "execute_result"
    }
   ],
   "source": [
    "new"
   ]
  },
  {
   "cell_type": "code",
   "execution_count": 37,
   "id": "18e0f399-09e4-4d9c-9dd2-fa444903d082",
   "metadata": {},
   "outputs": [],
   "source": [
    "my_dict = {'a': 1, 'b': 2, 'c': 3, 'd': 4} "
   ]
  },
  {
   "cell_type": "code",
   "execution_count": 38,
   "id": "9adbda33-1fae-40ad-b56d-42af6d741eec",
   "metadata": {},
   "outputs": [],
   "source": [
    "new = my_dict.copy()"
   ]
  },
  {
   "cell_type": "code",
   "execution_count": 41,
   "id": "36305e04-08f4-4509-b462-5513eb9adae1",
   "metadata": {},
   "outputs": [],
   "source": [
    "new = { k: v for (k,v) in new.items() if (lambda k, v: v % 2 == 0) } "
   ]
  },
  {
   "cell_type": "code",
   "execution_count": 42,
   "id": "89d4dd04-7106-405f-8023-9598754197d8",
   "metadata": {},
   "outputs": [
    {
     "data": {
      "text/plain": [
       "{'a': 1, 'b': 2, 'c': 3, 'd': 4}"
      ]
     },
     "execution_count": 42,
     "metadata": {},
     "output_type": "execute_result"
    }
   ],
   "source": [
    "new"
   ]
  },
  {
   "cell_type": "code",
   "execution_count": 53,
   "id": "cd4886d2-852c-4d07-bcf8-f234a526e46b",
   "metadata": {},
   "outputs": [],
   "source": [
    "list1 = [1, 2, 3, 2, 1]\n",
    "list2 = [3, 1, 2, 1, 3]"
   ]
  },
  {
   "cell_type": "code",
   "execution_count": 56,
   "id": "c4a28b83-f832-4c51-87be-bc30e4f93f44",
   "metadata": {},
   "outputs": [],
   "source": [
    "def check_sim(list1, list2):\n",
    "    def count_sum(lst):\n",
    "        new_dict = {}\n",
    "        for i in lst:\n",
    "            new_dict[i] = new_dict.get(i, 0) + 1 \n",
    "        return new_dict\n",
    "    return count_sum(list1) == count_sum(list2)\n",
    "            "
   ]
  },
  {
   "cell_type": "code",
   "execution_count": 57,
   "id": "7b146cf2-1967-4e52-862f-0c287c53e34f",
   "metadata": {},
   "outputs": [
    {
     "data": {
      "text/plain": [
       "False"
      ]
     },
     "execution_count": 57,
     "metadata": {},
     "output_type": "execute_result"
    }
   ],
   "source": [
    "check_sim(list1, list2)"
   ]
  },
  {
   "cell_type": "code",
   "execution_count": null,
   "id": "2c5e8be1-f99c-4753-9464-ff3a40d936eb",
   "metadata": {},
   "outputs": [],
   "source": []
  }
 ],
 "metadata": {
  "kernelspec": {
   "display_name": "Python 3 (ipykernel)",
   "language": "python",
   "name": "python3"
  },
  "language_info": {
   "codemirror_mode": {
    "name": "ipython",
    "version": 3
   },
   "file_extension": ".py",
   "mimetype": "text/x-python",
   "name": "python",
   "nbconvert_exporter": "python",
   "pygments_lexer": "ipython3",
   "version": "3.12.0"
  }
 },
 "nbformat": 4,
 "nbformat_minor": 5
}
