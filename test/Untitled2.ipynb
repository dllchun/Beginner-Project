{
 "cells": [
  {
   "cell_type": "code",
   "execution_count": 191,
   "id": "70ce4b19-5ed6-4c28-8b04-3d7d63121071",
   "metadata": {},
   "outputs": [],
   "source": [
    "import pandas as pd"
   ]
  },
  {
   "cell_type": "code",
   "execution_count": 192,
   "id": "d48be28b-b88e-49f7-bce2-5dbda2029ac5",
   "metadata": {},
   "outputs": [],
   "source": [
    "employee_d = {\n",
    "    'id': [1],\n",
    "    'name': ['Joe'],\n",
    "    'salary':[0],\n",
    "    'departmentId': [1]\n",
    "}\n",
    "\n",
    "employee = pd.DataFrame(employee_d)"
   ]
  },
  {
   "cell_type": "code",
   "execution_count": 163,
   "id": "1d72afb9-36ee-45fb-9f5b-edd004f0cae8",
   "metadata": {},
   "outputs": [
    {
     "data": {
      "text/html": [
       "<div>\n",
       "<style scoped>\n",
       "    .dataframe tbody tr th:only-of-type {\n",
       "        vertical-align: middle;\n",
       "    }\n",
       "\n",
       "    .dataframe tbody tr th {\n",
       "        vertical-align: top;\n",
       "    }\n",
       "\n",
       "    .dataframe thead th {\n",
       "        text-align: right;\n",
       "    }\n",
       "</style>\n",
       "<table border=\"1\" class=\"dataframe\">\n",
       "  <thead>\n",
       "    <tr style=\"text-align: right;\">\n",
       "      <th></th>\n",
       "      <th>id</th>\n",
       "      <th>name</th>\n",
       "      <th>salary</th>\n",
       "      <th>departmentId</th>\n",
       "    </tr>\n",
       "  </thead>\n",
       "  <tbody>\n",
       "  </tbody>\n",
       "</table>\n",
       "</div>"
      ],
      "text/plain": [
       "Empty DataFrame\n",
       "Columns: [id, name, salary, departmentId]\n",
       "Index: []"
      ]
     },
     "execution_count": 163,
     "metadata": {},
     "output_type": "execute_result"
    }
   ],
   "source": [
    "filter_one = (employee.departmentId == 1) & (employee.salary == 90000)\n",
    "employee[filter_one]"
   ]
  },
  {
   "cell_type": "code",
   "execution_count": 193,
   "id": "cf79895f-df2b-492f-8d79-8f879d57ee46",
   "metadata": {},
   "outputs": [],
   "source": [
    "department_d = {\n",
    "    'id':[1],\n",
    "    'name':['IT']\n",
    "}"
   ]
  },
  {
   "cell_type": "code",
   "execution_count": 165,
   "id": "bd47db94-e834-4458-ae21-efca65fd86cc",
   "metadata": {},
   "outputs": [],
   "source": [
    "filter = employee.groupby('departmentId').salary.max()"
   ]
  },
  {
   "cell_type": "code",
   "execution_count": 166,
   "id": "b33f0e07-3a93-4f1f-9804-0c15f9ca0296",
   "metadata": {},
   "outputs": [
    {
     "data": {
      "text/html": [
       "<div>\n",
       "<style scoped>\n",
       "    .dataframe tbody tr th:only-of-type {\n",
       "        vertical-align: middle;\n",
       "    }\n",
       "\n",
       "    .dataframe tbody tr th {\n",
       "        vertical-align: top;\n",
       "    }\n",
       "\n",
       "    .dataframe thead th {\n",
       "        text-align: right;\n",
       "    }\n",
       "</style>\n",
       "<table border=\"1\" class=\"dataframe\">\n",
       "  <thead>\n",
       "    <tr style=\"text-align: right;\">\n",
       "      <th></th>\n",
       "      <th>id</th>\n",
       "      <th>name</th>\n",
       "      <th>salary</th>\n",
       "      <th>departmentId</th>\n",
       "    </tr>\n",
       "  </thead>\n",
       "  <tbody>\n",
       "    <tr>\n",
       "      <th>0</th>\n",
       "      <td>1</td>\n",
       "      <td>Joe</td>\n",
       "      <td>0</td>\n",
       "      <td>1</td>\n",
       "    </tr>\n",
       "  </tbody>\n",
       "</table>\n",
       "</div>"
      ],
      "text/plain": [
       "   id name  salary  departmentId\n",
       "0   1  Joe       0             1"
      ]
     },
     "execution_count": 166,
     "metadata": {},
     "output_type": "execute_result"
    }
   ],
   "source": [
    "ndf = pd.DataFrame()\n",
    "for id, salary in filter.items():\n",
    "    nfilter = (employee.departmentId == id) & (employee.salary == salary)\n",
    "    ndf = pd.concat([ndf, employee[nfilter]], axis=0, ignore_index=True )\n",
    "ndf"
   ]
  },
  {
   "cell_type": "code",
   "execution_count": 167,
   "id": "62ee5a0d-b86a-48fe-9541-f678eef47a33",
   "metadata": {},
   "outputs": [],
   "source": [
    "department = pd.DataFrame(department_d)"
   ]
  },
  {
   "cell_type": "code",
   "execution_count": 168,
   "id": "f60e5f1d-0490-46d8-a64a-71abfac135cb",
   "metadata": {},
   "outputs": [
    {
     "data": {
      "text/html": [
       "<div>\n",
       "<style scoped>\n",
       "    .dataframe tbody tr th:only-of-type {\n",
       "        vertical-align: middle;\n",
       "    }\n",
       "\n",
       "    .dataframe tbody tr th {\n",
       "        vertical-align: top;\n",
       "    }\n",
       "\n",
       "    .dataframe thead th {\n",
       "        text-align: right;\n",
       "    }\n",
       "</style>\n",
       "<table border=\"1\" class=\"dataframe\">\n",
       "  <thead>\n",
       "    <tr style=\"text-align: right;\">\n",
       "      <th></th>\n",
       "      <th>Department</th>\n",
       "      <th>Employee</th>\n",
       "      <th>Salary</th>\n",
       "    </tr>\n",
       "  </thead>\n",
       "  <tbody>\n",
       "    <tr>\n",
       "      <th>0</th>\n",
       "      <td>IT</td>\n",
       "      <td>Joe</td>\n",
       "      <td>0</td>\n",
       "    </tr>\n",
       "  </tbody>\n",
       "</table>\n",
       "</div>"
      ],
      "text/plain": [
       "  Department Employee  Salary\n",
       "0         IT      Joe       0"
      ]
     },
     "execution_count": 168,
     "metadata": {},
     "output_type": "execute_result"
    }
   ],
   "source": [
    "comp_df = ndf.merge(department, how='left', left_on='departmentId', right_on='id')\n",
    "comp_df.sort_values(by=\"id_x\")\n",
    "comp_df = comp_df[['name_y', 'name_x', 'salary']]\n",
    "comp_df.columns = ['Department', 'Employee', 'Salary']\n",
    "comp_df"
   ]
  },
  {
   "cell_type": "code",
   "execution_count": 202,
   "id": "1095812b-3839-4269-a598-e3129474e9d8",
   "metadata": {},
   "outputs": [],
   "source": [
    "def department_highest_salary(employee: pd.DataFrame, department: pd.DataFrame) -> pd.DataFrame:\n",
    "    #Find out the highest salary in each department \n",
    "    if len(employee) > 0 and len(department) > 0:\n",
    "        filter = employee.groupby('departmentId').salary.max()\n",
    "        ndf = pd.DataFrame()\n",
    "        for id, salary in filter.items():\n",
    "            nfilter = (employee.departmentId == id) & (employee.salary == salary)\n",
    "            ndf = pd.concat([ndf, employee[nfilter]], axis= 0, ignore_index= True )\n",
    "\n",
    "        comp_df = ndf.merge(department, how='left', left_on='departmentId', right_on='id')\n",
    "        # comp_df.sort_values(by=\"id_x\")\n",
    "        comp_df = comp_df[['name_y', 'name_x', 'salary']]\n",
    "        comp_df.columns = ['Department', 'Employee', 'Salary']\n",
    "        comp_df\n",
    "        \n",
    "        return comp_df\n",
    "    elif len(employee) < 0 and len(department) < 0:\n",
    "        return pd.DataFrame({\"Department\": [None], \n",
    "             \"Employee\": [None], \n",
    "             \"Salary\": [None]})[:0]\n",
    "\n",
    "   \n",
    "    "
   ]
  },
  {
   "cell_type": "code",
   "execution_count": 2,
   "id": "6969c02f-8694-41b7-9deb-e877ca6deffd",
   "metadata": {},
   "outputs": [
    {
     "ename": "NameError",
     "evalue": "name 'department_highest_salary' is not defined",
     "output_type": "error",
     "traceback": [
      "\u001b[0;31m---------------------------------------------------------------------------\u001b[0m",
      "\u001b[0;31mNameError\u001b[0m                                 Traceback (most recent call last)",
      "Cell \u001b[0;32mIn[2], line 1\u001b[0m\n\u001b[0;32m----> 1\u001b[0m \u001b[43mdepartment_highest_salary\u001b[49m(employee, department)\n",
      "\u001b[0;31mNameError\u001b[0m: name 'department_highest_salary' is not defined"
     ]
    }
   ],
   "source": [
    "department_highest_salary(employee, department)"
   ]
  },
  {
   "cell_type": "code",
   "execution_count": null,
   "id": "e3edc367-3f99-4750-b293-6be666e579b2",
   "metadata": {},
   "outputs": [],
   "source": []
  },
  {
   "cell_type": "code",
   "execution_count": null,
   "id": "721d7a9c-9df1-40f1-9165-a800cbb8c2db",
   "metadata": {},
   "outputs": [],
   "source": []
  },
  {
   "cell_type": "code",
   "execution_count": null,
   "id": "3b283dfa-52c6-4e42-838e-404bce1ee7b0",
   "metadata": {},
   "outputs": [],
   "source": []
  },
  {
   "cell_type": "code",
   "execution_count": null,
   "id": "f690c46b-2c6b-48af-875b-f23a102ad1e5",
   "metadata": {},
   "outputs": [],
   "source": []
  }
 ],
 "metadata": {
  "kernelspec": {
   "display_name": "Python 3 (ipykernel)",
   "language": "python",
   "name": "python3"
  },
  "language_info": {
   "codemirror_mode": {
    "name": "ipython",
    "version": 3
   },
   "file_extension": ".py",
   "mimetype": "text/x-python",
   "name": "python",
   "nbconvert_exporter": "python",
   "pygments_lexer": "ipython3",
   "version": "3.12.0"
  }
 },
 "nbformat": 4,
 "nbformat_minor": 5
}
