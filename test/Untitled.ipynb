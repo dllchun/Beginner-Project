{
 "cells": [
  {
   "cell_type": "code",
   "execution_count": 4,
   "id": "e6e4710b-9a2b-4609-98c5-ccbf314605d7",
   "metadata": {},
   "outputs": [
    {
     "data": {
      "text/plain": [
       "'two'"
      ]
     },
     "execution_count": 4,
     "metadata": {},
     "output_type": "execute_result"
    }
   ],
   "source": [
    "def search_value(dict: dict[str, str], value: str) -> str:\n",
    "    for k, v in dict.items():\n",
    "        if v == value:\n",
    "            return k\n",
    "\n",
    "search_value({\"one\": \"hi\", \"two\":\"hii\"}, \"hii\")"
   ]
  },
  {
   "cell_type": "code",
   "execution_count": 5,
   "id": "fe5e2ff5-8d34-4ed6-af30-763213fbb90d",
   "metadata": {},
   "outputs": [],
   "source": [
    "list_1 = [1,2,3,4,5]\n",
    "list_2 = [2,3,4,5,6]\n",
    "\n",
    "list_3 = list(zip(list_1, list_2))"
   ]
  },
  {
   "cell_type": "code",
   "execution_count": 6,
   "id": "7e054af2-f2f6-4b7c-b780-db10e0a4dffa",
   "metadata": {},
   "outputs": [
    {
     "data": {
      "text/plain": [
       "[(1, 2), (2, 3), (3, 4), (4, 5), (5, 6)]"
      ]
     },
     "execution_count": 6,
     "metadata": {},
     "output_type": "execute_result"
    }
   ],
   "source": [
    "list_3"
   ]
  },
  {
   "cell_type": "code",
   "execution_count": 8,
   "id": "dc6083d4-ba96-4628-9de7-ed6514802b5b",
   "metadata": {},
   "outputs": [],
   "source": [
    "import random"
   ]
  },
  {
   "cell_type": "code",
   "execution_count": 9,
   "id": "34a6406e-7d7d-4ade-9942-8ec12d5dfbdf",
   "metadata": {},
   "outputs": [],
   "source": [
    "city_names = ['Paris', 'London', 'Rome', 'Berlin', 'Madrid']"
   ]
  },
  {
   "cell_type": "code",
   "execution_count": 11,
   "id": "25d294c6-b1e9-4cce-9566-1671f326ae6e",
   "metadata": {},
   "outputs": [],
   "source": [
    "new_dict = {item: random.randint(20, 30)for item in city_names}"
   ]
  },
  {
   "cell_type": "code",
   "execution_count": 13,
   "id": "ac11111c-5e6b-44ad-a0db-0d37929da47e",
   "metadata": {},
   "outputs": [],
   "source": [
    "new1_dict = {city: temp for (city, temp) in new_dict.items() if temp > 25}"
   ]
  },
  {
   "cell_type": "code",
   "execution_count": 14,
   "id": "65ddd109-fbcf-442f-9e0a-6a5b9810e6a3",
   "metadata": {},
   "outputs": [
    {
     "data": {
      "text/plain": [
       "{'Paris': 28, 'Rome': 28}"
      ]
     },
     "execution_count": 14,
     "metadata": {},
     "output_type": "execute_result"
    }
   ],
   "source": [
    "new1_dict"
   ]
  },
  {
   "cell_type": "code",
   "execution_count": 15,
   "id": "157294ad-7410-4738-8d61-7bc4acc77d90",
   "metadata": {},
   "outputs": [],
   "source": [
    "words = ['apple', 'orange', 'banana', 'apple', 'orange', 'apple'] "
   ]
  },
  {
   "cell_type": "code",
   "execution_count": 26,
   "id": "478cc199-f48a-4d92-8dd2-fd557221b517",
   "metadata": {},
   "outputs": [],
   "source": [
    "word_dict = {}\n",
    "# for word in words:\n",
    "#     if word not in word_dict: \n",
    "#         word_dict[word] = 1\n",
    "#     else:\n",
    "#         word_dict[word] = word_dict[word] +  1\n",
    "\n",
    "for word in words:\n",
    "    word_dict[word] = word_dict.get(word, 0) + 1\n",
    "    "
   ]
  },
  {
   "cell_type": "code",
   "execution_count": 27,
   "id": "87c51f8b-aeb7-430d-bd27-107a98fe5c61",
   "metadata": {},
   "outputs": [
    {
     "data": {
      "text/plain": [
       "{'apple': 3, 'orange': 2, 'banana': 1}"
      ]
     },
     "execution_count": 27,
     "metadata": {},
     "output_type": "execute_result"
    }
   ],
   "source": [
    "word_dict"
   ]
  },
  {
   "cell_type": "code",
   "execution_count": 23,
   "id": "728ba295-fd41-4fb4-a894-57d24adf827d",
   "metadata": {},
   "outputs": [],
   "source": [
    "new_dict = { word: 0  for word in words} "
   ]
  },
  {
   "cell_type": "code",
   "execution_count": 24,
   "id": "42d07a96-d405-46d6-9a79-290284854747",
   "metadata": {},
   "outputs": [
    {
     "data": {
      "text/plain": [
       "{'apple': 0, 'orange': 0, 'banana': 0}"
      ]
     },
     "execution_count": 24,
     "metadata": {},
     "output_type": "execute_result"
    }
   ],
   "source": [
    "new_dict"
   ]
  },
  {
   "cell_type": "code",
   "execution_count": 193,
   "id": "a558c235-9576-4f4e-b65a-8fb8c820adc9",
   "metadata": {},
   "outputs": [],
   "source": [
    "dict1 = {'a': 1, 'b': 2, 'c': 3}\n",
    "dict2 = {'b': 3, 'c': 4, 'd': 5}"
   ]
  },
  {
   "cell_type": "code",
   "execution_count": 194,
   "id": "f58bbcfc-d85f-4f77-adae-1ed857dd0e68",
   "metadata": {},
   "outputs": [],
   "source": [
    "result = dict1.copy()\n",
    "\n",
    "for k, v in dict2.items():\n",
    "    result[k] = result.get(k, 0) + v"
   ]
  },
  {
   "cell_type": "code",
   "execution_count": 196,
   "id": "3c79988d-fe8c-44a0-85ff-bde967f133d3",
   "metadata": {},
   "outputs": [
    {
     "data": {
      "text/plain": [
       "{'a': 1, 'b': 5, 'c': 7, 'd': 5}"
      ]
     },
     "execution_count": 196,
     "metadata": {},
     "output_type": "execute_result"
    }
   ],
   "source": [
    "result"
   ]
  },
  {
   "cell_type": "code",
   "execution_count": 197,
   "id": "bd83240d-ccde-4bc9-97d8-9870be360ed5",
   "metadata": {},
   "outputs": [],
   "source": [
    "my_dict = {'a': 5, 'b': 9, 'c': 2}"
   ]
  },
  {
   "cell_type": "code",
   "execution_count": 230,
   "id": "53db9057-66ab-4a80-a1f6-cb0e623b0ddf",
   "metadata": {},
   "outputs": [],
   "source": [
    "newlist = list(my_dict.values())"
   ]
  },
  {
   "cell_type": "code",
   "execution_count": 232,
   "id": "872f8164-9c82-45e6-aee8-49e0ecf1beae",
   "metadata": {},
   "outputs": [],
   "source": [
    "newlist.sort(reverse=True)"
   ]
  },
  {
   "cell_type": "code",
   "execution_count": 234,
   "id": "af82d568-a4ed-48c7-af28-e43f9880bf08",
   "metadata": {},
   "outputs": [
    {
     "data": {
      "text/plain": [
       "9"
      ]
     },
     "execution_count": 234,
     "metadata": {},
     "output_type": "execute_result"
    }
   ],
   "source": [
    "newlist[0]"
   ]
  },
  {
   "cell_type": "code",
   "execution_count": 235,
   "id": "1174ba97-bba6-44dd-b3e4-adced0a935db",
   "metadata": {},
   "outputs": [
    {
     "name": "stdout",
     "output_type": "stream",
     "text": [
      "b\n"
     ]
    }
   ],
   "source": [
    "for k, v in my_dict.items():\n",
    "    if v == newlist[0]:\n",
    "        print(k)"
   ]
  },
  {
   "cell_type": "code",
   "execution_count": 237,
   "id": "c99db45f-6420-4061-b5f2-fa7e6199eeda",
   "metadata": {},
   "outputs": [
    {
     "data": {
      "text/plain": [
       "<function dict.get(key, default=None, /)>"
      ]
     },
     "execution_count": 237,
     "metadata": {},
     "output_type": "execute_result"
    }
   ],
   "source": [
    "my_dict.get"
   ]
  },
  {
   "cell_type": "code",
   "execution_count": 238,
   "id": "26b6c57d-609d-467e-b13c-cd2e31f91280",
   "metadata": {},
   "outputs": [
    {
     "data": {
      "text/plain": [
       "'b'"
      ]
     },
     "execution_count": 238,
     "metadata": {},
     "output_type": "execute_result"
    }
   ],
   "source": [
    "max(my_dict, key=my_dict.get)"
   ]
  },
  {
   "cell_type": "code",
   "execution_count": null,
   "id": "2f98dd40-5f54-4263-81ed-46535b557e04",
   "metadata": {},
   "outputs": [],
   "source": []
  }
 ],
 "metadata": {
  "kernelspec": {
   "display_name": "Python 3 (ipykernel)",
   "language": "python",
   "name": "python3"
  },
  "language_info": {
   "codemirror_mode": {
    "name": "ipython",
    "version": 3
   },
   "file_extension": ".py",
   "mimetype": "text/x-python",
   "name": "python",
   "nbconvert_exporter": "python",
   "pygments_lexer": "ipython3",
   "version": "3.12.0"
  }
 },
 "nbformat": 4,
 "nbformat_minor": 5
}
