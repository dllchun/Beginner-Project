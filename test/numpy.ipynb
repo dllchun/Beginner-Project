{
 "cells": [
  {
   "cell_type": "code",
   "execution_count": null,
   "id": "0cdbdd0a-f92e-4e14-933d-b392528f320f",
   "metadata": {},
   "outputs": [],
   "source": [
    "import numpy as np"
   ]
  },
  {
   "cell_type": "code",
   "execution_count": null,
   "id": "ec15e78b-d41b-4da3-ae12-01e433be31fc",
   "metadata": {},
   "outputs": [],
   "source": [
    "arr1 = np.array([1,7,2,19,23,0,88, 11, 6,11])"
   ]
  },
  {
   "cell_type": "code",
   "execution_count": null,
   "id": "89f048e5-3ce6-4bdf-92b0-c8095abe0a31",
   "metadata": {},
   "outputs": [],
   "source": [
    "arr1.max()"
   ]
  },
  {
   "cell_type": "code",
   "execution_count": null,
   "id": "b508d757-9908-4ac6-ae4e-1bdeb2c97a5b",
   "metadata": {},
   "outputs": [],
   "source": [
    "arr1.min()"
   ]
  },
  {
   "cell_type": "markdown",
   "id": "db65c5b9-6012-4c18-85c2-8d782814ddd2",
   "metadata": {},
   "source": [
    "### Return the index of the maximum value"
   ]
  },
  {
   "cell_type": "code",
   "execution_count": null,
   "id": "372d8939-3851-495a-b69a-eb240311fecc",
   "metadata": {},
   "outputs": [],
   "source": [
    "arr1.argmax()"
   ]
  },
  {
   "cell_type": "markdown",
   "id": "cbc67a95-6817-4279-b5a9-7077177e6e36",
   "metadata": {},
   "source": [
    "### Use Condition to return certain index  "
   ]
  },
  {
   "cell_type": "code",
   "execution_count": null,
   "id": "c0722f1a-0c24-44d7-967a-bae1a49fa2e0",
   "metadata": {},
   "outputs": [],
   "source": [
    "np.argwhere(arr1 > 20)"
   ]
  },
  {
   "cell_type": "markdown",
   "id": "300c2e30-c4af-4d25-b210-816afa50342b",
   "metadata": {},
   "source": [
    "### Return the cumulative sum of the array"
   ]
  },
  {
   "cell_type": "code",
   "execution_count": null,
   "id": "de80a541-f725-4bc1-ad19-177af07751db",
   "metadata": {},
   "outputs": [],
   "source": [
    "np.cumsum(arr1)"
   ]
  },
  {
   "cell_type": "markdown",
   "id": "a4b77228-d57a-44d1-9e5c-cef27a3cca13",
   "metadata": {},
   "source": [
    "### Create array using random number "
   ]
  },
  {
   "cell_type": "code",
   "execution_count": null,
   "id": "e3594a2b-2355-49c7-94c7-0f6a847bb883",
   "metadata": {},
   "outputs": [],
   "source": [
    "arr2 = np.random.randint(0,10, size=(3,5))"
   ]
  },
  {
   "cell_type": "code",
   "execution_count": 53,
   "id": "950e6c9d-08b5-4781-9840-c0a90b2eedb2",
   "metadata": {},
   "outputs": [
    {
     "data": {
      "text/plain": [
       "array([[7, 4, 1, 6, 9],\n",
       "       [8, 9, 9, 0, 9],\n",
       "       [1, 6, 2, 6, 0]])"
      ]
     },
     "execution_count": 53,
     "metadata": {},
     "output_type": "execute_result"
    }
   ],
   "source": [
    "arr2"
   ]
  },
  {
   "cell_type": "markdown",
   "id": "e2445bc3-d118-4f8d-88f8-81e58c0d108a",
   "metadata": {},
   "source": [
    "#### Return the mean based on different axis\n",
    "\n",
    "[] 1 = Row\n",
    "[] 0 = Column"
   ]
  },
  {
   "cell_type": "code",
   "execution_count": null,
   "id": "fc21fdbd-6b38-42d7-8211-a4fe84fd7bef",
   "metadata": {},
   "outputs": [],
   "source": [
    "arr2.mean(axis=1)"
   ]
  },
  {
   "cell_type": "code",
   "execution_count": 39,
   "id": "9427750c-21a3-4a00-b012-643d985974f0",
   "metadata": {},
   "outputs": [],
   "source": [
    "data = np.loadtxt(\"titantic_and_iris_dataset/iris.csv\", delimiter=',', skiprows=1, usecols=(1,2,3,4))"
   ]
  },
  {
   "cell_type": "code",
   "execution_count": 52,
   "id": "288ac5e9-c1ca-403a-b5a9-c3719573e751",
   "metadata": {},
   "outputs": [
    {
     "data": {
      "text/plain": [
       "3.4644999999999997"
      ]
     },
     "execution_count": 52,
     "metadata": {},
     "output_type": "execute_result"
    }
   ],
   "source": [
    "data.mean()"
   ]
  },
  {
   "cell_type": "markdown",
   "id": "36ee21bc-4e4e-4344-a864-24c282df273b",
   "metadata": {},
   "source": [
    "### Use Np.arange to create array"
   ]
  },
  {
   "cell_type": "code",
   "execution_count": 94,
   "id": "af400650-be64-49d5-b18e-20052ac3c931",
   "metadata": {},
   "outputs": [],
   "source": [
    "a = np.arange(0,60,10)"
   ]
  },
  {
   "cell_type": "code",
   "execution_count": 95,
   "id": "c408d33a-a04d-4205-9a40-f098fd51a31f",
   "metadata": {},
   "outputs": [],
   "source": [
    "b = a.reshape(-1,1)"
   ]
  },
  {
   "cell_type": "code",
   "execution_count": 91,
   "id": "1080ebe5-8817-4a37-9827-ab15acf93c9f",
   "metadata": {},
   "outputs": [],
   "source": [
    "c = np.arange(6)"
   ]
  },
  {
   "cell_type": "code",
   "execution_count": 105,
   "id": "a68c247e-33f2-4ed5-88e8-ba22a056aa5c",
   "metadata": {},
   "outputs": [],
   "source": [
    "f = np.arange(0,60,10).reshape(-1,1) +  np.arange(6)"
   ]
  },
  {
   "cell_type": "code",
   "execution_count": 106,
   "id": "04b0b8e7-afad-499d-a5e9-b24ab43895f1",
   "metadata": {},
   "outputs": [
    {
     "data": {
      "text/plain": [
       "array([[ 0,  1,  2,  3,  4,  5],\n",
       "       [10, 11, 12, 13, 14, 15],\n",
       "       [20, 21, 22, 23, 24, 25],\n",
       "       [30, 31, 32, 33, 34, 35],\n",
       "       [40, 41, 42, 43, 44, 45],\n",
       "       [50, 51, 52, 53, 54, 55]])"
      ]
     },
     "execution_count": 106,
     "metadata": {},
     "output_type": "execute_result"
    }
   ],
   "source": [
    "f"
   ]
  }
 ],
 "metadata": {
  "kernelspec": {
   "display_name": "Python 3 (ipykernel)",
   "language": "python",
   "name": "python3"
  },
  "language_info": {
   "codemirror_mode": {
    "name": "ipython",
    "version": 3
   },
   "file_extension": ".py",
   "mimetype": "text/x-python",
   "name": "python",
   "nbconvert_exporter": "python",
   "pygments_lexer": "ipython3",
   "version": "3.12.0"
  }
 },
 "nbformat": 4,
 "nbformat_minor": 5
}
